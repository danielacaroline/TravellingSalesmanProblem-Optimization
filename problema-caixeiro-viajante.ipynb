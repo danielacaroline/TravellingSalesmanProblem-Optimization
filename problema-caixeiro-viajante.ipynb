{
 "cells": [
  {
   "cell_type": "code",
   "execution_count": 539,
   "metadata": {},
   "outputs": [],
   "source": [
    "import numpy as np\n",
    "import pandas as pd\n",
    "import random\n",
    "import shlex\n",
    "import sys"
   ]
  },
  {
   "cell_type": "code",
   "execution_count": 540,
   "metadata": {},
   "outputs": [
    {
     "name": "stdout",
     "output_type": "stream",
     "text": [
      "[['0', '1', '2', '1', '1', '2'], ['1', '0', '7', '1', '4', '3'], ['2', '7', '0', '3', '1', '1'], ['1', '1', '3', '0', '8', '1'], ['1', '4', '1', '8', '0', '1'], ['2', '3', '1', '1', '1', '0']]\n"
     ]
    }
   ],
   "source": [
    "with open(\"pcv.txt\", \"r\") as arquivo:\n",
    "    distancias = []\n",
    "    cidades = arquivo.readlines()\n",
    "    for i in range(len(cidades)-1):\n",
    "        distancias.append(cidades[i + 1].strip('\\n'\" \").split(\" \")[1:])\n",
    "    #for i in range(len(cidades)):\n",
    "     #   cidades[i] = cidades[i].strip('\\n'\" \")\n",
    "\n",
    "print(distancias)"
   ]
  },
  {
   "cell_type": "code",
   "execution_count": 541,
   "metadata": {},
   "outputs": [],
   "source": [
    "class Cidades:\n",
    "    def _init_(self, cidades = []):\n",
    "        self.cidades = cidades    \n",
    "    \n",
    "    def ler_entrada(self):\n",
    "        with open(\"pcv.txt\", \"r\") as arquivo:\n",
    "            arquivo = arquivo.readlines()\n",
    "            for i in range(len(arquivo)):\n",
    "                arquivo[i] = arquivo[i].strip('\\n'\" \")\n",
    "        return arquivo\n",
    "        \n",
    "    def obter_cidades(self):\n",
    "        cidades = []\n",
    "        arquivo = self.ler_entrada()\n",
    "        cidades.append(arquivo[0].split(\" \"))\n",
    "        return cidades[0]\n",
    "    \n",
    "    def obter_distancias(self):\n",
    "        distancias = []\n",
    "        arquivo = self.ler_entrada()\n",
    "        for i in range(len(arquivo)-1):\n",
    "            distancias.append(arquivo[i + 1].split(\" \")[1:])\n",
    "        return distancias\n"
   ]
  },
  {
   "cell_type": "code",
   "execution_count": 542,
   "metadata": {},
   "outputs": [],
   "source": [
    "c = Cidades()"
   ]
  },
  {
   "cell_type": "code",
   "execution_count": 543,
   "metadata": {},
   "outputs": [
    {
     "data": {
      "text/plain": [
       "['A B C D E F',\n",
       " 'A 0 1 2 1 1 2',\n",
       " 'B 1 0 7 1 4 3',\n",
       " 'C 2 7 0 3 1 1',\n",
       " 'D 1 1 3 0 8 1',\n",
       " 'E 1 4 1 8 0 1',\n",
       " 'F 2 3 1 1 1 0']"
      ]
     },
     "execution_count": 543,
     "metadata": {},
     "output_type": "execute_result"
    }
   ],
   "source": [
    "c.ler_entrada()\n"
   ]
  },
  {
   "cell_type": "code",
   "execution_count": 544,
   "metadata": {},
   "outputs": [],
   "source": [
    "cidades= c.obter_cidades()"
   ]
  },
  {
   "cell_type": "code",
   "execution_count": 545,
   "metadata": {},
   "outputs": [],
   "source": [
    "\n",
    "class Distancia():\n",
    "    def _init_(self, cidades):\n",
    "        self.cidades = cidades\n",
    "\n",
    "    def obter_distancia_entre_duas_cidades(self, cidade_inicial, cidade_final):\n",
    "       c =  Cidades()\n",
    "       index_cidade_inicial = self.cidades.index(cidade_inicial)\n",
    "       index_cidade_final = self.cidades.index(cidade_final)\n",
    "       distancias = c.obter_distancias()\n",
    "       distancia =  int(distancias[index_cidade_inicial][index_cidade_final])\n",
    "       return distancia"
   ]
  },
  {
   "cell_type": "code",
   "execution_count": 548,
   "metadata": {},
   "outputs": [],
   "source": [
    "class Individuo():\n",
    "    def __init__(self, cidades):\n",
    "        self.cidades = cidades\n",
    "        self.cromossomo = []\n",
    "        self.probabilidade = 0\n",
    "        self.distancia_total = 0\n",
    "        self.probabilidade = 0\n",
    "        \n",
    "        listaCidades = []\n",
    "        listaCidades.extend(self.cidades)\n",
    "                \n",
    "        while len(listaCidades) > 0 :\n",
    "            cidade_index =  random.randrange(len(listaCidades))           \n",
    "            self.cromossomo.append(listaCidades[cidade_index])\n",
    "            listaCidades.pop(cidade_index)\n",
    "            \n",
    "        print (self.cromossomo) \n",
    "        \n",
    "    def pressao_seletiva(self, n, tamanho_populacao):\n",
    "        N = tamanho_populacao\n",
    "        self.probabilidade  =  (N-n)/(N-1) \n",
    "        \n",
    "    def fitness(self):\n",
    "        soma_distancia = 0\n",
    "        \n",
    "        for i in range(len(self.cromossomo)-1):\n",
    "            d = Distancia()\n",
    "            d.cidades = self.cidades\n",
    "            cidade_inicial = self.cromossomo[i]\n",
    "            cidade_final = self.cromossomo[i+1]\n",
    "            soma_distancia += d.obter_distancia_entre_duas_cidades(cidade_inicial, cidade_final)\n",
    "          \n",
    "        self.distancia_total = soma_distancia"
   ]
  },
  {
   "cell_type": "code",
   "execution_count": 549,
   "metadata": {},
   "outputs": [
    {
     "name": "stdout",
     "output_type": "stream",
     "text": [
      "['A', 'B', 'C', 'F', 'D', 'E']\n"
     ]
    }
   ],
   "source": [
    "i=Individuo(cidades)"
   ]
  },
  {
   "cell_type": "code",
   "execution_count": 573,
   "metadata": {},
   "outputs": [],
   "source": [
    "class AlgoritimoGenetico():\n",
    "    def __init__(self, cidades, tamanho_populacao = 5,  geracao = 2, prob_cruzamento = 0.9, prob_mutacao = 0.9 ):\n",
    "        self.tamanho_populacao  = tamanho_populacao\n",
    "        self.geracao = geracao\n",
    "        self.prob_cruzamento = prob_cruzamento\n",
    "        self.prob_mutacao = prob_mutacao\n",
    "        self.cidades = cidades\n",
    "        self.populacao = []        \n",
    "        self.tamanho_roleta = 0   \n",
    "   \n",
    "    #gera população inicial\n",
    "    def init_populacao(self, cidades):\n",
    "        for i in range(self.tamanho_populacao):\n",
    "            self.populacao.append(Individuo(cidades))   \n",
    "            \n",
    "    def calcula_fitness(self):        \n",
    "        distancia = []\n",
    "        for individuo in self.populacao:\n",
    "            individuo.fitness()\n",
    "                            \n",
    "    def ordena_populacao(self):\n",
    "        self.populacao =  sorted(self.populacao, key=lambda populacao:populacao.distancia_total, reverse = False)  \n",
    "        \n",
    "         \n",
    "    def selecao_roda_roleta_com_ordenacao(self):        \n",
    "        [(self.populacao[i].pressao_seletiva(i+1, self.tamanho_populacao)) for i in range(self.tamanho_populacao)]\n",
    "        self.tamanho_roleta = sum([self.populacao[i].probabilidade for i in range(self.tamanho_populacao)])\n",
    "   \n",
    "    def selecao(self):\n",
    "        selecionado =[]\n",
    "        self.selecao_roda_roleta_com_ordenacao()\n",
    "        for i in range(self.tamanho_populacao):\n",
    "            ponto_aleatorio = random.uniform(0, self.tamanho_roleta)\n",
    "            acc = 0\n",
    "            for individuo in self.populacao:\n",
    "                \n",
    "                print(individuo.cromossomo) \n",
    "                if ponto_aleatorio <= acc + individuo.distancia_total:\n",
    "                    selecionado.append(individuo.cromossomo)\n",
    "                    print(\"selecionado\")\n",
    "                    print(selecionado)\n",
    "                    \n",
    "                    break\n",
    "                acc +=individuo.fitness\n",
    "                \n",
    "        return selecionado\n",
    "    \n",
    "    def cruzamento(self, pai1, pai2):\n",
    "        gene_index =  random.randrange(len(pai1))\n",
    "        filho1= pai1[-1:gene_index] + pai2[gene_index :]\n",
    "        filho2= pai2[-1:gene_index] + pai1[gene_index :]\n",
    "        filhos+=filho1\n",
    "        filhos+=filho2\n",
    "        return filho1, filho2\n",
    "    \n",
    "    def seleciona_pais(self): \n",
    "        random.shuffle(self.populacao)\n",
    "        filhos = []\n",
    "        for i in range(0, len(self.populacao), 2):    \n",
    "            index_pai1, index_pai2 = i, (i+1) % (len(self.populacao))\n",
    "            if random.uniform(0, 1) > self.prob_cruzamento:\n",
    "                continue\n",
    "            filhos[index_pai1], filhos[index_pai2] = self.cruzamento(self.populacao[index_pai1], self.populacao[index_pai2])\n",
    "                  \n",
    "        \n",
    "\n",
    "    # def init_solucao(self, cidades):\n",
    "    #     self.init_populacao(cidades)\n",
    "        \n",
    "    #     for individuo in self.populacao:\n",
    "    #         individuo.fitness()\n",
    "        \n",
    "    #     #ordena população por fitness\n",
    "    #     self.ordena_populacao()\n",
    "        \n",
    "    #     #print resultado\n",
    "    #     melhorIndividuo = self.populacao[0]\n",
    "    #     print(\"G: %s -> Distancia total: %s Cromossomo: %s\" % (\n",
    "    #         melhorIndividuo.geracao,\n",
    "    #         melhorIndividuo.distancia_total,\n",
    "    #         melhorIndividuo.cromossomo\n",
    "    #     ))\n",
    "\n",
    "    #     for i in range(self.geracao):     \n",
    "    #         pais = self.seleciona_pais    \n",
    "    #         filhos =  self.cruzamento(pais)  \n",
    "            \n",
    "            \n",
    "            #mutação\n",
    "            #seleciona sobreviventes \n",
    "            #calcula fitness\n",
    "            \n",
    "          \n",
    "  "
   ]
  },
  {
   "cell_type": "code",
   "execution_count": 574,
   "metadata": {},
   "outputs": [
    {
     "name": "stdout",
     "output_type": "stream",
     "text": [
      "['B', 'C', 'D', 'F', 'E', 'A']\n",
      "['E', 'F', 'D', 'B', 'A', 'C']\n",
      "['F', 'E', 'D', 'C', 'B', 'A']\n",
      "['F', 'D', 'A', 'C', 'B', 'E']\n",
      "['E', 'C', 'D', 'F', 'A', 'B']\n"
     ]
    }
   ],
   "source": [
    "ag =  AlgoritimoGenetico(cidades)\n",
    "ag.init_populacao(cidades)\n",
    "ag.calcula_fitness()\n",
    "ag.ordena_populacao()\n",
    "ag.selecao_roda_roleta_com_ordenacao()"
   ]
  },
  {
   "cell_type": "code",
   "execution_count": 575,
   "metadata": {},
   "outputs": [
    {
     "name": "stdout",
     "output_type": "stream",
     "text": [
      "{'cidades': ['A', 'B', 'C', 'D', 'E', 'F'], 'cromossomo': ['E', 'F', 'D', 'B', 'A', 'C'], 'probabilidade': 1.0, 'distancia_total': 6}\n",
      "ponto aleatorio\n",
      "0.3917225182942638\n",
      "['E', 'F', 'D', 'B', 'A', 'C']\n",
      "6\n",
      "selecionado\n",
      "[['E', 'F', 'D', 'B', 'A', 'C']]\n",
      "{'cidades': ['A', 'B', 'C', 'D', 'E', 'F'], 'cromossomo': ['E', 'C', 'D', 'F', 'A', 'B'], 'probabilidade': 0.75, 'distancia_total': 8}\n",
      "ponto aleatorio\n",
      "2.30454251004995\n",
      "['E', 'F', 'D', 'B', 'A', 'C']\n",
      "6\n",
      "selecionado\n",
      "[['E', 'F', 'D', 'B', 'A', 'C'], ['E', 'F', 'D', 'B', 'A', 'C']]\n",
      "{'cidades': ['A', 'B', 'C', 'D', 'E', 'F'], 'cromossomo': ['B', 'C', 'D', 'F', 'E', 'A'], 'probabilidade': 0.5, 'distancia_total': 13}\n",
      "ponto aleatorio\n",
      "0.591437535818185\n",
      "['E', 'F', 'D', 'B', 'A', 'C']\n",
      "6\n",
      "selecionado\n",
      "[['E', 'F', 'D', 'B', 'A', 'C'], ['E', 'F', 'D', 'B', 'A', 'C'], ['E', 'F', 'D', 'B', 'A', 'C']]\n",
      "{'cidades': ['A', 'B', 'C', 'D', 'E', 'F'], 'cromossomo': ['F', 'D', 'A', 'C', 'B', 'E'], 'probabilidade': 0.25, 'distancia_total': 15}\n",
      "ponto aleatorio\n",
      "0.25822563044830465\n",
      "['E', 'F', 'D', 'B', 'A', 'C']\n",
      "6\n",
      "selecionado\n",
      "[['E', 'F', 'D', 'B', 'A', 'C'], ['E', 'F', 'D', 'B', 'A', 'C'], ['E', 'F', 'D', 'B', 'A', 'C'], ['E', 'F', 'D', 'B', 'A', 'C']]\n",
      "{'cidades': ['A', 'B', 'C', 'D', 'E', 'F'], 'cromossomo': ['F', 'E', 'D', 'C', 'B', 'A'], 'probabilidade': 0.0, 'distancia_total': 20}\n",
      "ponto aleatorio\n",
      "1.9622493150638765\n",
      "['E', 'F', 'D', 'B', 'A', 'C']\n",
      "6\n",
      "selecionado\n",
      "[['E', 'F', 'D', 'B', 'A', 'C'], ['E', 'F', 'D', 'B', 'A', 'C'], ['E', 'F', 'D', 'B', 'A', 'C'], ['E', 'F', 'D', 'B', 'A', 'C'], ['E', 'F', 'D', 'B', 'A', 'C']]\n"
     ]
    },
    {
     "data": {
      "text/plain": [
       "[['E', 'F', 'D', 'B', 'A', 'C'],\n",
       " ['E', 'F', 'D', 'B', 'A', 'C'],\n",
       " ['E', 'F', 'D', 'B', 'A', 'C'],\n",
       " ['E', 'F', 'D', 'B', 'A', 'C'],\n",
       " ['E', 'F', 'D', 'B', 'A', 'C']]"
      ]
     },
     "execution_count": 575,
     "metadata": {},
     "output_type": "execute_result"
    }
   ],
   "source": [
    "ag.selecao()"
   ]
  }
 ],
 "metadata": {
  "kernelspec": {
   "display_name": "Python 3.10.4 64-bit",
   "language": "python",
   "name": "python3"
  },
  "language_info": {
   "codemirror_mode": {
    "name": "ipython",
    "version": 3
   },
   "file_extension": ".py",
   "mimetype": "text/x-python",
   "name": "python",
   "nbconvert_exporter": "python",
   "pygments_lexer": "ipython3",
   "version": "3.10.4"
  },
  "orig_nbformat": 4,
  "vscode": {
   "interpreter": {
    "hash": "c1112efaf299c976dacdc0ab56b5e578ae90991093dfb2a233e8a64c3396a46c"
   }
  }
 },
 "nbformat": 4,
 "nbformat_minor": 2
}
