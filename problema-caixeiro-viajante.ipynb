{
 "cells": [
  {
   "cell_type": "code",
   "execution_count": 1,
   "metadata": {},
   "outputs": [],
   "source": [
    "import numpy as np\n",
    "import pandas as pd\n",
    "import random"
   ]
  },
  {
   "cell_type": "code",
   "execution_count": 26,
   "metadata": {},
   "outputs": [
    {
     "name": "stdout",
     "output_type": "stream",
     "text": [
      "['A B C D E F', 'A 0 1 2 1 1 2', 'B 1 0 7 1 4 3', 'C 2 7 0 3 1 1', 'D 1 1 3 0 8 1', 'E 1 4 1 8 0 1', 'F 2 3 1 1 1 0']\n"
     ]
    }
   ],
   "source": [
    "with open(\"pcv.txt\", \"r\") as arquivo:\n",
    "    cidades = arquivo.readlines()\n",
    "    for i in range(len(cidades)):\n",
    "        cidades[i] = cidades[i].strip('\\n'\" \")\n",
    "\n",
    "print(cidades)"
   ]
  },
  {
   "cell_type": "code",
   "execution_count": 30,
   "metadata": {},
   "outputs": [
    {
     "data": {
      "text/plain": [
       "['0', '1', '2', '1', '1', '2']"
      ]
     },
     "execution_count": 30,
     "metadata": {},
     "output_type": "execute_result"
    }
   ],
   "source": [
    "l =  cidades[1].split(\" \")[1:]\n",
    "l"
   ]
  },
  {
   "cell_type": "code",
   "execution_count": null,
   "metadata": {},
   "outputs": [],
   "source": [
    "class Cidades:\n",
    "    def _init(self, nome, distancias):\n",
    "        self.nome = nome\n",
    "        self.distancias = distancias       \n",
    "    \n",
    "    def ler_entrada(self):\n",
    "        with open(\"pcv.txt\", \"r\") as arquivo:\n",
    "            arquivo = arquivo.readlines()\n",
    "            for i in range(len(arquivo)):\n",
    "                arquivo[i] = arquivo[i].strip('\\n'\" \")\n",
    "        \n",
    "    def obter_cidades(self):\n",
    "        cidades = []\n",
    "        arquivo = self.ler_entrada()\n",
    "        cidades.append(arquivo[0].split(\" \"))\n",
    "    \n",
    "    def obter_distancias(self):\n",
    "        distancias = []\n",
    "        arquivo = self.ler_entrada()\n",
    "        for i in range(len(arquivo)-1):\n",
    "            distancias.append(arquivo[i + 1].split(\" \")[1:])\n",
    "            \n"
   ]
  },
  {
   "cell_type": "code",
   "execution_count": null,
   "metadata": {},
   "outputs": [],
   "source": [
    "class Distancia():\n",
    "    def _init_(self, cidades):\n",
    "        self.cidades = cidades\n",
    "\n",
    "    def obter_distancia(self, cidade_inicial, cidade_final):\n",
    "        for i in range(len(self.cromossomo)):\n"
   ]
  },
  {
   "cell_type": "code",
   "execution_count": null,
   "metadata": {},
   "outputs": [],
   "source": [
    "class Individuo():\n",
    "    def __init__(self, cidades):\n",
    "        self.cidades = cidades\n",
    "        self.cromossomo = []\n",
    "        \n",
    "        cidades = []\n",
    "        #criar cromossomos\n",
    "        for cidade in range(len(self.cidades)):\n",
    "            cidades.append(cidade)\n",
    "\n",
    "        while len(self.cidades) > 0 :\n",
    "            cidade_index =  random.randrange(len(self.cidades))\n",
    "            self.cromossomo.append(cidade_index)\n",
    "            self.cidades.pop(cidade_index)\n",
    "    \n",
    "    def fitness(self):\n",
    "        #for\n"
   ]
  },
  {
   "cell_type": "code",
   "execution_count": null,
   "metadata": {},
   "outputs": [],
   "source": [
    "class AlgoritimoGenetico():\n",
    "    def __init__(self, tamanho_populacao = 50, cidades=[]):\n",
    "        self.tamanho_populacao  = tamanho_populacao\n",
    "        self.cidades = cidades\n",
    "        self.populacao = []\n",
    "        self.geracao = 50\n",
    "\n",
    "    #gera população inicial\n",
    "    def init_populacao(self, cidades):\n",
    "        for i in range(self.tamanho_populacao):\n",
    "            self.populacao.append(Individuo(cidades))\n",
    "\n",
    "    def init_solucao(self, cidades):\n",
    "        self.init_populacao(cidades)\n",
    "        \n",
    "        for individuo in self.populacao:\n",
    "            individuo.fitness()\n",
    "\n",
    "        for i in range(self.geracao):\n",
    "\n",
    "\n",
    "\n",
    "        \n",
    "   \n",
    "\n",
    "  "
   ]
  },
  {
   "cell_type": "code",
   "execution_count": null,
   "metadata": {},
   "outputs": [],
   "source": []
  }
 ],
 "metadata": {
  "kernelspec": {
   "display_name": "Python 3.10.4 64-bit",
   "language": "python",
   "name": "python3"
  },
  "language_info": {
   "codemirror_mode": {
    "name": "ipython",
    "version": 3
   },
   "file_extension": ".py",
   "mimetype": "text/x-python",
   "name": "python",
   "nbconvert_exporter": "python",
   "pygments_lexer": "ipython3",
   "version": "3.10.4"
  },
  "orig_nbformat": 4,
  "vscode": {
   "interpreter": {
    "hash": "c1112efaf299c976dacdc0ab56b5e578ae90991093dfb2a233e8a64c3396a46c"
   }
  }
 },
 "nbformat": 4,
 "nbformat_minor": 2
}
