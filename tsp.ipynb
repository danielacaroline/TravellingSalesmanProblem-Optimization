{
 "cells": [
  {
   "cell_type": "code",
   "execution_count": 1,
   "metadata": {},
   "outputs": [],
   "source": [
    "import numpy as np\n",
    "import pandas as pd\n",
    "import random"
   ]
  },
  {
   "cell_type": "code",
   "execution_count": 4,
   "metadata": {},
   "outputs": [
    {
     "name": "stdout",
     "output_type": "stream",
     "text": [
      "[['0', '1', '2', '1', '1', '2'], ['1', '0', '7', '1', '4', '3'], ['2', '7', '0', '3', '1', '1'], ['1', '1', '3', '0', '8', '1'], ['1', '4', '1', '8', '0', '1'], ['2', '3', '1', '1', '1', '0']]\n"
     ]
    }
   ],
   "source": [
    "with open(\"pcv.txt\", \"r\") as arquivo:\n",
    "    distancias = []\n",
    "    cidades = arquivo.readlines()\n",
    "    for i in range(len(cidades)-1):\n",
    "        distancias.append(cidades[i + 1].strip('\\n'\" \").split(\" \")[1:])\n",
    "    #for i in range(len(cidades)):\n",
    "     #   cidades[i] = cidades[i].strip('\\n'\" \")\n",
    "\n",
    "print(distancias)"
   ]
  },
  {
   "cell_type": "code",
   "execution_count": 9,
   "metadata": {},
   "outputs": [
    {
     "data": {
      "text/plain": [
       "'1'"
      ]
     },
     "execution_count": 9,
     "metadata": {},
     "output_type": "execute_result"
    }
   ],
   "source": [
    "distancias[0][1]"
   ]
  },
  {
   "cell_type": "code",
   "execution_count": null,
   "metadata": {},
   "outputs": [],
   "source": [
    "class Cidades:\n",
    "    def _init(self, nome, distancias):\n",
    "        self.nome = nome\n",
    "        self.distancias = distancias       \n",
    "    \n",
    "    def ler_entrada(self):\n",
    "        with open(\"pcv.txt\", \"r\") as arquivo:\n",
    "            arquivo = arquivo.readlines()\n",
    "            for i in range(len(arquivo)):\n",
    "                arquivo[i] = arquivo[i].strip('\\n'\" \")\n",
    "        return arquivo\n",
    "        \n",
    "    def obter_cidades(self):\n",
    "        cidades = []\n",
    "        arquivo = self.ler_entrada()\n",
    "        cidades.append(arquivo[0].split(\" \"))\n",
    "        return cidades\n",
    "    \n",
    "    def obter_distancias(self):\n",
    "        distancias = []\n",
    "        arquivo = self.ler_entrada()\n",
    "        for i in range(len(arquivo)-1):\n",
    "            distancias.append(arquivo[i + 1].split(\" \")[1:])\n",
    "        return distancias\n"
   ]
  },
  {
   "cell_type": "code",
   "execution_count": null,
   "metadata": {},
   "outputs": [],
   "source": [
    "class Distancia():\n",
    "    def _init_(self, cidades):\n",
    "        self.cidades = cidades\n",
    "\n",
    "    def obter_distancia_entre_duas_cidades(self, cidade_inicial, cidade_final):\n",
    "       index_cidade_inicial = self.cidades.index(cidade_inicial)\n",
    "       index_cidade_final = self.cidades.index(cidade_final)\n",
    "       distancias = Cidades.obter_distancias\n",
    "       distancia =  distancias[index_cidade_inicial][index_cidade_final]\n",
    "       return distancia\n",
    "       \n",
    "       \n"
   ]
  },
  {
   "cell_type": "code",
   "execution_count": null,
   "metadata": {},
   "outputs": [],
   "source": [
    "class Individuo():\n",
    "    def __init__(self, cidades, distacia_total, geracao = 0):\n",
    "        self.cidades = cidades\n",
    "        self.cromossomo = []\n",
    "        self.distacia_total = distacia_total\n",
    "        self.geracao = geracao\n",
    "        self.probabilidade = 0\n",
    "        \n",
    "        cidades = []\n",
    "        #criar cromossomos\n",
    "        for cidade in range(len(self.cidades)):\n",
    "            cidades.append(cidade)\n",
    "\n",
    "        while len(self.cidades) > 0 :\n",
    "            cidade_index =  random.randrange(len(self.cidades))\n",
    "            self.cromossomo.append(cidade_index)\n",
    "            self.cidades.pop(cidade_index)\n",
    "            \n",
    "  \n",
    "    \n",
    "    def fitness(self):\n",
    "        soma_distancia = 0\n",
    "        \n",
    "        for i in range(len(self.cromossomo)):\n",
    "            distancia =  Distancia(self.cidades)\n",
    "            cidade_inicial = self.cromossomo[i]\n",
    "            cidade_final = self.cromossomo[i+1]\n",
    "            soma_distancia += distancia.obter_distancia_entre_duas_cidades(cidade_inicial, cidade_final)\n",
    "            self.distacia_total = soma_distancia\n",
    "            \n",
    "        \n"
   ]
  },
  {
   "cell_type": "code",
   "execution_count": null,
   "metadata": {},
   "outputs": [],
   "source": [
    "class AlgoritimoGenetico():\n",
    "    def __init__(self, cidades, tamanho_populacao = 50,  geracao = 50):\n",
    "        self.tamanho_populacao  = tamanho_populacao\n",
    "        self.geracao = geracao\n",
    "        self.cidades = cidades\n",
    "        self.populacao = []\n",
    "        self.probabilidade = 0\n",
    "        self.tamanho_roleta = 0\n",
    "       \n",
    "\n",
    "    #gera população inicial\n",
    "    def init_populacao(self, cidades):\n",
    "        for i in range(self.tamanho_populacao):\n",
    "            self.populacao.append(Individuo(cidades))\n",
    "            \n",
    "    def ordena_populacao(self):\n",
    "        self.populacao =  sorted(self.populacao, key=lambda populacao:populacao.distancia_total, reverse = False)\n",
    "    \n",
    "    def pressao_seletiva(self, n):\n",
    "        N = self.tamanho_populacao\n",
    "        self.probabilidade  =  (N-n)/(N-1)\n",
    "        \n",
    "    def selecao_roda_roleta_com_ordenacao(self):        \n",
    "        self.probabilidade = [(self.populacao[i], self.pressao_seletiva(i+1) for i in self.tamanho_população)]\n",
    "        self.tamanho_roleta  =  sum([i[1] for i in self.probabilidade])\n",
    "        \n",
    "   \n",
    "    def seleciona_pais(self):\n",
    "        selecao =[]\n",
    "        self.selecao_roda_roleta_com_ordenacao()\n",
    "        for i in self.tamanho_populacao:\n",
    "            ponto_aleatorio= random.uniform(0, self.tamanho_roleta)\n",
    "            acc = 0\n",
    "            for self.populacao[i].cromossomo, self.populacao[i].fitness in self.probabilidade:\n",
    "                ponto_aleatorio= random.uniform(0, self.tamanho_roleta)\n",
    "                if ponto_aleatorio <= acc + self.populacao[i].fitness:\n",
    "                    selecao +=self.populacao[i].cromossomo\n",
    "                    break\n",
    "                acc +=self.populacao[i].fitness\n",
    "                \n",
    "        return selecao\n",
    "    \n",
    "    def cruzamento(self, pais):\n",
    "        filhos = []\n",
    "        for i in range(len(self.populacao)/2):    \n",
    "            pai1 = pais[i]\n",
    "            pai2 = pais[i+1]\n",
    "            gene_index =  random.randrange(len(pai1))\n",
    "            filho1= pai1[-1:gene_index] + pai2[gene_index :]\n",
    "            filho2= pai2[-1:gene_index] + pai1[gene_index :]\n",
    "            filhos+=filho1\n",
    "            filhos+=filho2\n",
    "        return filhos\n",
    "            \n",
    "        \n",
    "\n",
    "    def init_solucao(self, cidades):\n",
    "        self.init_populacao(cidades)\n",
    "        \n",
    "        for individuo in self.populacao:\n",
    "            individuo.fitness()\n",
    "        \n",
    "        #ordena população por fitness\n",
    "        self.ordena_populacao()\n",
    "        \n",
    "        #print resultado\n",
    "        melhorIndividuo = self.populacao[0]\n",
    "        print(\"G: %s -> Distancia total: %s Cromossomo: %s\" % (\n",
    "            melhorIndividuo.geracao,\n",
    "            melhorIndividuo.distancia_total,\n",
    "            melhorIndividuo.cromossomo\n",
    "        ))\n",
    "\n",
    "        for i in range(self.geracao):     \n",
    "            pais = self.seleciona_pais    \n",
    "            filhos =  self.cruzamento(pais)   \n",
    "            \n",
    "            for i in range(len(self.()populacao)/2):\n",
    "                #seleciona os pais\n",
    "                pai1 = self.seleciona_pais()\n",
    "                pai2 = self.seleciona_pais()\n",
    "                \n",
    "                filho = self.cruzamento(pai1, pai2)\n",
    "                \n",
    "                \n",
    "\n",
    "\n",
    "\n",
    "        \n",
    "   \n",
    "\n",
    "  "
   ]
  },
  {
   "cell_type": "code",
   "execution_count": null,
   "metadata": {},
   "outputs": [],
   "source": []
  }
 ],
 "metadata": {
  "kernelspec": {
   "display_name": "Python 3.10.4 64-bit",
   "language": "python",
   "name": "python3"
  },
  "language_info": {
   "codemirror_mode": {
    "name": "ipython",
    "version": 3
   },
   "file_extension": ".py",
   "mimetype": "text/x-python",
   "name": "python",
   "nbconvert_exporter": "python",
   "pygments_lexer": "ipython3",
   "version": "3.10.4"
  },
  "orig_nbformat": 4,
  "vscode": {
   "interpreter": {
    "hash": "c1112efaf299c976dacdc0ab56b5e578ae90991093dfb2a233e8a64c3396a46c"
   }
  }
 },
 "nbformat": 4,
 "nbformat_minor": 2
}
